{
 "cells": [
  {
   "cell_type": "markdown",
   "metadata": {},
   "source": [
    "Forward Transform"
   ]
  },
  {
   "cell_type": "code",
   "execution_count": 1,
   "metadata": {},
   "outputs": [],
   "source": [
    "import numpy as np\n",
    "import matplotlib.pyplot as plt\n",
    "from tqdm.auto import tqdm\n",
    "import torch\n",
    "from torch import nn\n",
    "import torch.nn.functional as F\n",
    "import torchvision\n",
    "import math\n"
   ]
  },
  {
   "cell_type": "code",
   "execution_count": 12,
   "metadata": {},
   "outputs": [
    {
     "name": "stderr",
     "output_type": "stream",
     "text": [
      "C:\\Users\\Christos\\AppData\\Local\\Temp\\ipykernel_16216\\1572917398.py:26: DeprecationWarning: Conversion of an array with ndim > 0 to a scalar is deprecated, and will error in future. Ensure you extract a single element from your array before performing this operation. (Deprecated NumPy 1.25.)\n",
      "  nb = int(np.random.uniform(1, 10, 1))\n"
     ]
    },
    {
     "name": "stdout",
     "output_type": "stream",
     "text": [
      "[[0. 0. 0. ... 0. 0. 0.]\n",
      " [0. 0. 0. ... 0. 0. 0.]\n",
      " [0. 0. 0. ... 0. 0. 0.]\n",
      " ...\n",
      " [0. 0. 0. ... 0. 0. 0.]\n",
      " [0. 0. 0. ... 0. 0. 0.]\n",
      " [0. 0. 0. ... 0. 0. 0.]]\n"
     ]
    }
   ],
   "source": [
    "import os\n",
    "from skimage.transform import radon, iradon, rescale\n",
    "from skimage.io import imsave\n",
    "from skimage import img_as_ubyte\n",
    "\n",
    "#from skimage.data import shepp_logan_phantom\n",
    "#image = shepp_logan_phantom()\n",
    "#image = rescale(image, scale=0.4, mode='reflect', channel_axis=None)\n",
    "\n",
    "image_dir = r\"C:\\Users\\Christos\\Desktop\\CT_Reconstruction\\dataset\\CT_128\\hr_128\"\n",
    "sinogram_dir = r\"C:\\Users\\Christos\\Desktop\\CT_Reconstruction\\dataset\\CT_128\\lr_128\"\n",
    "inverse_dir = r\"C:\\Users\\Christos\\Desktop\\CT_Reconstruction\\dataset\\CT_128\\sr_128_128\"\n",
    "os.makedirs(image_dir, exist_ok=True)\n",
    "os.makedirs(sinogram_dir, exist_ok=True)\n",
    "os.makedirs(inverse_dir, exist_ok=True)\n",
    "\n",
    "def normalize_image(image):\n",
    "    min_val = np.min(image)\n",
    "    max_val = np.max(image)\n",
    "    return (image - min_val) / (max_val - min_val)\n",
    "\n",
    "def generate_images_and_sinograms(num_samples):\n",
    "    for i in range(num_samples):\n",
    "\n",
    "        xx = np.linspace(0, 1 , 128)\n",
    "        yy = np.linspace(0, 1, 128)\n",
    "        x,y = np.meshgrid(xx, yy)\n",
    "        r = np.sqrt((x - 0.5)**2 + (y-0.5)**2)\n",
    "        f = np.zeros([128, 128])\n",
    "        nb = int(np.random.uniform(1, 10, 1))\n",
    "\n",
    "        for j in range(0, nb):\n",
    "            a = np.random.uniform(0, 1, 1)\n",
    "            x0 = np.random.uniform(0, 1, 1)\n",
    "            y0 = np.random.uniform(0, 1, 1)\n",
    "            sx = np.random.uniform(0.01, 0.3, 1)\n",
    "            sy = np.random.uniform(0.01, 0.3, 1)\n",
    "            f += a*np.exp(-0.5*((x- x0)**2/sx**2 + (y-y0)**2/sy**2))\n",
    "        f[r>0.5] = 0\n",
    " \n",
    "        image = f\n",
    "        image = normalize_image(image)\n",
    "        image = img_as_ubyte(image)\n",
    "\n",
    "        image_filename = os.path.join(image_dir, f\"image_{i+1:03d}.png\")\n",
    "        imsave(image_filename, image)\n",
    "\n",
    "        theta = np.linspace(0.0, 360.0, max(image.shape), endpoint=False)\n",
    "        sinogram = radon(image, theta=theta)\n",
    "\n",
    "        noise_std = np.random.uniform(0, 13)\n",
    "        sinogram += np.random.normal(0, noise_std, np.shape(sinogram))\n",
    "\n",
    "        sinogram = normalize_image(sinogram)\n",
    "        sinogram = img_as_ubyte(sinogram)\n",
    "       \n",
    "        sinogram_filename = os.path.join(sinogram_dir, f\"sinogram_{i+1:03d}.png\")\n",
    "        imsave(sinogram_filename, sinogram)\n",
    "\n",
    "        '''\n",
    "        mean_signal_level = np.mean(sinogram)\n",
    "        percentage_noise = (noise_std / mean_signal_level) * 100\n",
    "\n",
    "        print(f\"Noise Standard Deviation: {noise_std:.2f}\")\n",
    "        print(f\"Mean Signal Level: {mean_signal_level:.2f}\")\n",
    "        print(f\"Percentage of Noise: {percentage_noise:.2f}%\")\n",
    "        '''\n",
    "        \n",
    "        inverse = iradon(sinogram, theta=theta)\n",
    "\n",
    "        inverse = normalize_image(inverse)\n",
    "        inverse = img_as_ubyte(inverse)\n",
    "\n",
    "        inverse_filename = os.path.join(inverse_dir, f\"inverse_{i+1:03d}.png\")\n",
    "        imsave(inverse_filename, inverse)\n",
    "\n",
    "        '''\n",
    "        fig, (ax1, ax2) = plt.subplots(1, 2, figsize=(8, 4.5))\n",
    "        ax1.set_title(\"Original\")\n",
    "        ax1.imshow(image, cmap=plt.cm.Greys_r)\n",
    "        dx, dy = 0.5 * 360.0 / max(image.shape), 0.5 / sinogram.shape[0]\n",
    "        ax2.set_title(\"Radon transform\\n(Sinogram)\")\n",
    "        ax2.set_xlabel(\"Projection angle (deg)\")\n",
    "        ax2.set_ylabel(\"Projection position (pixels)\")\n",
    "        ax2.imshow(\n",
    "            sinogram,\n",
    "            cmap=plt.cm.Greys_r,\n",
    "            extent=(-dx, 360.0 + dx, -dy, sinogram.shape[0] + dy),\n",
    "            aspect='auto',\n",
    "        )\n",
    "        fig.tight_layout()\n",
    "        plt.show()\n",
    "        '''\n",
    "\n",
    "generate_images_and_sinograms(2000)"
   ]
  },
  {
   "cell_type": "markdown",
   "metadata": {},
   "source": [
    "FBP"
   ]
  },
  {
   "cell_type": "code",
   "execution_count": null,
   "metadata": {},
   "outputs": [],
   "source": [
    "import matplotlib.pyplot as plt\n",
    "from skimage.transform.radon_transform import _get_fourier_filter\n",
    "\n",
    "filters = ['ramp', 'shepp-logan', 'cosine', 'hamming', 'hann']\n",
    "\n",
    "for ix, f in enumerate(filters):\n",
    "    response = _get_fourier_filter(2000, f)\n",
    "    plt.plot(response, label=f)\n",
    "\n",
    "plt.xlim([0, 1000])\n",
    "plt.xlabel('frequency')\n",
    "plt.legend()\n",
    "plt.show()"
   ]
  },
  {
   "cell_type": "code",
   "execution_count": null,
   "metadata": {},
   "outputs": [],
   "source": [
    "from skimage.transform import iradon\n",
    "\n",
    "reconstruction_fbp = iradon(sinogram, theta=theta, filter_name='ramp')\n",
    "error = reconstruction_fbp - image\n",
    "print(f'FBP rms reconstruction error: {np.sqrt(np.mean(error**2)):.3g}')\n",
    "\n",
    "imkwargs = dict(vmin=-0.2, vmax=0.2)\n",
    "fig, (ax1, ax2) = plt.subplots(1, 2, figsize=(8, 4.5), sharex=True, sharey=True)\n",
    "ax1.set_title(\"Reconstruction\\nFiltered back projection\")\n",
    "ax1.imshow(reconstruction_fbp, cmap=plt.cm.Greys_r)\n",
    "ax2.set_title(\"Reconstruction error\\nFiltered back projection\")\n",
    "ax2.imshow(reconstruction_fbp - image, cmap=plt.cm.Greys_r, **imkwargs)\n",
    "plt.show()"
   ]
  },
  {
   "cell_type": "markdown",
   "metadata": {},
   "source": [
    "SART"
   ]
  },
  {
   "cell_type": "code",
   "execution_count": null,
   "metadata": {},
   "outputs": [],
   "source": [
    "from skimage.transform import iradon_sart\n",
    "\n",
    "reconstruction_sart = iradon_sart(sinogram, theta=theta)\n",
    "error = reconstruction_sart - image\n",
    "print(\n",
    "    f'SART (1 iteration) rms reconstruction error: ' f'{np.sqrt(np.mean(error**2)):.3g}'\n",
    ")\n",
    "\n",
    "fig, axes = plt.subplots(2, 2, figsize=(8, 8.5), sharex=True, sharey=True)\n",
    "ax = axes.ravel()\n",
    "\n",
    "ax[0].set_title(\"Reconstruction\\nSART\")\n",
    "ax[0].imshow(reconstruction_sart, cmap=plt.cm.Greys_r)\n",
    "\n",
    "ax[1].set_title(\"Reconstruction error\\nSART\")\n",
    "ax[1].imshow(reconstruction_sart - image, cmap=plt.cm.Greys_r, **imkwargs)\n",
    "\n",
    "reconstruction_sart2 = iradon_sart(sinogram, theta=theta, image=reconstruction_sart)\n",
    "error = reconstruction_sart2 - image\n",
    "print(\n",
    "    f'SART (2 iterations) rms reconstruction error: '\n",
    "    f'{np.sqrt(np.mean(error**2)):.3g}'\n",
    ")\n",
    "\n",
    "ax[2].set_title(\"Reconstruction\\nSART, 2 iterations\")\n",
    "ax[2].imshow(reconstruction_sart2, cmap=plt.cm.Greys_r)\n",
    "\n",
    "ax[3].set_title(\"Reconstruction error\\nSART, 2 iterations\")\n",
    "ax[3].imshow(reconstruction_sart2 - image, cmap=plt.cm.Greys_r, **imkwargs)\n",
    "plt.show()"
   ]
  },
  {
   "cell_type": "code",
   "execution_count": 19,
   "metadata": {},
   "outputs": [
    {
     "name": "stderr",
     "output_type": "stream",
     "text": [
      "C:\\Users\\Christos\\AppData\\Local\\Temp\\ipykernel_16216\\1572917398.py:26: DeprecationWarning: Conversion of an array with ndim > 0 to a scalar is deprecated, and will error in future. Ensure you extract a single element from your array before performing this operation. (Deprecated NumPy 1.25.)\n",
      "  nb = int(np.random.uniform(1, 10, 1))\n"
     ]
    }
   ],
   "source": [
    "import numpy as np\n",
    "import matplotlib.pyplot as plt\n",
    "\n",
    "from skimage.data import shepp_logan_phantom\n",
    "from skimage.transform import radon, rescale\n",
    "\n",
    "image_dir = r\"C:\\Users\\Christos\\Desktop\\1\"\n",
    "os.makedirs(image_dir, exist_ok=True)\n",
    "\n",
    "def generate_images_and_sinograms(num_samples):\n",
    "    for i in range(num_samples):\n",
    "\n",
    "        image = shepp_logan_phantom()\n",
    "        image = rescale(image, scale=0.32, mode='reflect', channel_axis=None)\n",
    "        image = normalize_image(image)\n",
    "        image = img_as_ubyte(image)\n",
    "\n",
    "        image_filename = os.path.join(image_dir, f\"image_{i+1:03d}.png\")\n",
    "        imsave(image_filename, image)\n",
    "\n",
    "        theta = np.linspace(0.0, 360.0, max(image.shape), endpoint=False)\n",
    "        sinogram = radon(image, theta=theta)\n",
    "\n",
    "        noise_std = np.random.uniform(0, 13)\n",
    "        sinogram += np.random.normal(0, noise_std, np.shape(sinogram))\n",
    "\n",
    "        sinogram = normalize_image(sinogram)\n",
    "        sinogram = img_as_ubyte(sinogram)\n",
    "            \n",
    "        sinogram_filename = os.path.join(image_dir, f\"sinogram_{i+1:03d}.png\")\n",
    "        imsave(sinogram_filename, sinogram)\n",
    "\n",
    "        inverse = iradon(sinogram, theta=theta)\n",
    "\n",
    "        inverse = normalize_image(inverse)\n",
    "        inverse = img_as_ubyte(inverse)\n",
    "\n",
    "        inverse_filename = os.path.join(image_dir, f\"inverse_{i+1:03d}.png\")\n",
    "        imsave(inverse_filename, inverse)\n",
    "\n",
    "generate_images_and_sinograms(100)"
   ]
  }
 ],
 "metadata": {
  "kernelspec": {
   "display_name": "base",
   "language": "python",
   "name": "python3"
  },
  "language_info": {
   "codemirror_mode": {
    "name": "ipython",
    "version": 3
   },
   "file_extension": ".py",
   "mimetype": "text/x-python",
   "name": "python",
   "nbconvert_exporter": "python",
   "pygments_lexer": "ipython3",
   "version": "3.12.4"
  }
 },
 "nbformat": 4,
 "nbformat_minor": 2
}
